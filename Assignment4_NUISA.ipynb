{
  "nbformat": 4,
  "nbformat_minor": 0,
  "metadata": {
    "kernelspec": {
      "display_name": "Python 3",
      "language": "python",
      "name": "python3"
    },
    "language_info": {
      "codemirror_mode": {
        "name": "ipython",
        "version": 3
      },
      "file_extension": ".py",
      "mimetype": "text/x-python",
      "name": "python",
      "nbconvert_exporter": "python",
      "pygments_lexer": "ipython3",
      "version": "3.8.3"
    },
    "colab": {
      "name": "Assignment4_NUISA.ipynb",
      "provenance": [],
      "collapsed_sections": [],
      "toc_visible": true,
      "include_colab_link": true
    }
  },
  "cells": [
    {
      "cell_type": "markdown",
      "metadata": {
        "id": "view-in-github",
        "colab_type": "text"
      },
      "source": [
        "<a href=\"https://colab.research.google.com/github/acsnuisa/LinAlg-2021/blob/main/Assignment4_NUISA.ipynb\" target=\"_parent\"><img src=\"https://colab.research.google.com/assets/colab-badge.svg\" alt=\"Open In Colab\"/></a>"
      ]
    },
    {
      "cell_type": "markdown",
      "metadata": {
        "id": "oIhcJPw4Ifq7"
      },
      "source": [
        "# Linear Algebra for ECE\n",
        "## Laboratory 4 : Matrices\n",
        "![image](https://drive.google.com/uc?export=view&id=1xJLUKtpiXA1nezyfhoSLOtdcqgZn4JnX)\n",
        "\n",
        "[1] Introduction to Matrices"
      ]
    },
    {
      "cell_type": "markdown",
      "metadata": {
        "id": "5AZfT1ngIfrC"
      },
      "source": [
        "Now that you have a fundamental knowledge about Python, we'll try to look into greater dimensions."
      ]
    },
    {
      "cell_type": "markdown",
      "metadata": {
        "id": "z3yQzzctIfrD"
      },
      "source": [
        "### Objectives\n",
        "At the end of this activity you will be able to:\n",
        "1. Be familiar with matrices and their relation to linear equations.\n",
        "2. Perform basic matrix operations.\n",
        "3. Program and translate matrix equations and operations using Python."
      ]
    },
    {
      "cell_type": "markdown",
      "metadata": {
        "id": "OoHJrqIuIfrG"
      },
      "source": [
        "## Introduction to Matrices"
      ]
    },
    {
      "cell_type": "markdown",
      "metadata": {
        "id": "rmoXv48oIfrG"
      },
      "source": [
        "> A matrix is a two-dimensional array of numbers with rows and columns arranged in rows and columns. Matrices are a type of matrix that can be used to organize, store, and manipulate mathematical data. In the actual world, matrices have a wide range of applications and uses. Matrices are useful when working with models that are based on systems of linear equations [1].\n",
        ">> For example, matrix *A* has two rows and three columns.\n",
        "\n",
        "$$\n",
        "A=\\begin{bmatrix} -2 & 5 & 6\\\\ 5 & 2 & 7\\end{bmatrix} \\\\\n",
        "$$\n",
        "$$\n",
        "B=\\begin{bmatrix} -8 & -4 \\\\ 23 & 12\\\\ 18 & 10\\end{bmatrix}\n",
        "$$\n",
        "\n",
        "> * In contrast, matrix *B* has three rows and two columns, so it is a 3 x 2 matrix. \\\n",
        "Keep in mind that: Rows x Columns!\n",
        "\n"
      ]
    },
    {
      "cell_type": "markdown",
      "metadata": {
        "id": "n9jrJRqu9d8V"
      },
      "source": [
        "### Matrix Dimensions\n",
        "\n"
      ]
    },
    {
      "cell_type": "markdown",
      "metadata": {
        "id": "2I3urEt5b5FI"
      },
      "source": [
        "> Khan Academy provided a general introduction into matrices so we can further understand its concept. The dimensions of a matrix tells its size: the number of rows and columns of the matrix, in that order. Since matrix *A* has two rows and three columns, we write its dimensions as 2 x 3, pronounced \"two by three\" [2].\n",
        "\n",
        "$$\n",
        "A=\\begin{bmatrix} -2 & 5 & 6\\\\ 5 & 2 & 7\\end{bmatrix} \\\\\n",
        "$$"
      ]
    },
    {
      "cell_type": "markdown",
      "metadata": {
        "id": "t4UuCvxzAEHV"
      },
      "source": [
        "#### Representing a linear system with matrices"
      ]
    },
    {
      "cell_type": "markdown",
      "metadata": {
        "id": "SOO6-oklAKvR"
      },
      "source": [
        ">  Matrices can be used to solve systems of equations. However, we must learn how to represent systems with matrices [3]. First and foremost, the equation must be arranged properly in the standard form. Then we take its constants and put it into its matrix form from left to right (including the constant on the right side)"
      ]
    },
    {
      "cell_type": "markdown",
      "metadata": {
        "id": "vMNHzYdvIfrG"
      },
      "source": [
        "Let's say for example you have $A$ and $B$ as system of equation.\n",
        "\n",
        "$$\n",
        "A = \\left\\{\n",
        "    \\begin{array}\\\n",
        "        -2x + 5y + 6z \\\\ \n",
        "        5x + 2y +7z\n",
        "    \\end{array}\n",
        "\\right. \\\\\n",
        "B = \\left\\{\n",
        "    \\begin{array}\\\n",
        "        -8x - 4y\\\\ \n",
        "        23x + 12y \\\\\n",
        "        18x + 10y \n",
        "    \\end{array}\n",
        "\\right. $$\n",
        "\n",
        "We could see that $A$ is a system of 2 equations with 3 parameters. While $B$ is a system of 3 equations with 2 parameters. We can represent them as matrices by:\n",
        "\n",
        "$$\n",
        "A=\\begin{bmatrix} -2 & 5 & 6\\\\ 5 & 2 & 7\\end{bmatrix} \\\\\n",
        "B=\\begin{bmatrix} -8 & -4 \\\\ 23 & 12\\\\ 18 & 10\\end{bmatrix}\n",
        "$$"
      ]
    },
    {
      "cell_type": "markdown",
      "metadata": {
        "id": "VR0hHUBCckV_"
      },
      "source": [
        "### Declaring Matrices"
      ]
    },
    {
      "cell_type": "markdown",
      "metadata": {
        "id": "CD85IeetCSg-"
      },
      "source": [
        "> The entities or numbers in matrices are called the elements of a matrix. These elements are arranged and ordered in rows and columns which form the list/array-like structure of matrices. And just like arrays, these elements are indexed according to their position with respect to their rows and columns. This can be reprsented just like the equation below. Whereas  A  is a matrix consisting of elements denoted by  ai,j . Denoted by  i  is the number of rows in the matrix while  j  stands for the number of columns.\n",
        "Do note that the  size  of a matrix is  i×j .\n",
        "\n",
        "$$A=\\begin{bmatrix}\n",
        "a_{(0,0)}&a_{(0,1)}&\\dots&a_{(0,j-1)}\\\\\n",
        "a_{(1,0)}&a_{(1,1)}&\\dots&a_{(1,j-1)}\\\\\n",
        "\\vdots&\\vdots&\\ddots&\\vdots&\\\\\n",
        "a_{(i-1,0)}&a_{(i-1,1)}&\\dots&a_{(i-1,j-1)}\n",
        "\\end{bmatrix}\n",
        "$$"
      ]
    },
    {
      "cell_type": "markdown",
      "metadata": {
        "id": "qtSnxYlbIfrN"
      },
      "source": [
        "> There are several ways of classifying matrices. Once could be according to their <b>shape</b> and another is according to their <b>element values</b>. We'll try to go through them."
      ]
    },
    {
      "cell_type": "markdown",
      "metadata": {
        "id": "HUOT_9BWIfrg"
      },
      "source": [
        "## Activity"
      ]
    },
    {
      "cell_type": "markdown",
      "metadata": {
        "id": "8GUiKVDeIfrh"
      },
      "source": [
        "### Task 1"
      ]
    },
    {
      "cell_type": "markdown",
      "metadata": {
        "id": "jj9MWQHdIfrh"
      },
      "source": [
        "Create a function named `desc_mat()` that througouhly describes a matrix, it should: <br>\n",
        "1. Displays the shape, size, and rank of the matrix. <br>\n",
        "2. Displays whether the matrix is square or non-square. <br>\n",
        "3. Displays whether the matrix is an empty matrix. <br>\n",
        "4. Displays if the matrix is an identity, ones, or zeros matrix <br>\n",
        "   \n",
        "Use sample matrices in which their shapes are not lower than $(3,3)$.\n",
        "In your methodology, create a flowchart discuss the functions and methods you have done. Present your results in the results section showing the description of each matrix you have declared."
      ]
    },
    {
      "cell_type": "code",
      "metadata": {
        "id": "C4kEil7TIfrh"
      },
      "source": [
        "## Function area"
      ],
      "execution_count": null,
      "outputs": []
    },
    {
      "cell_type": "code",
      "metadata": {
        "id": "ciG90VBemu6N"
      },
      "source": [
        "import numpy as np\n",
        "import matplotlib.pyplot as plt\n",
        "import scipy.linalg as la\n",
        "%matplotlib inline"
      ],
      "execution_count": 2,
      "outputs": []
    },
    {
      "cell_type": "code",
      "metadata": {
        "id": "My0fHOH6TCVp"
      },
      "source": [
        "def desc_mat(matrix):\n",
        "    if matrix.size > 0:\n",
        "        is_square = True if matrix.shape[0] == matrix.shape[1] else False \n",
        "        print(f'Matrix:\\n{matrix}\\n\\nShape:\\t{matrix.shape}\\nRank:\\t{matrix.ndim}\\nIs Square: {is_square}\\n')\n",
        "    else:\n",
        "        print('Matrix is Null')"
      ],
      "execution_count": 3,
      "outputs": []
    },
    {
      "cell_type": "code",
      "metadata": {
        "id": "WIdSjZKcIfrh"
      },
      "source": [
        "## Matrix declarations"
      ],
      "execution_count": null,
      "outputs": []
    },
    {
      "cell_type": "code",
      "metadata": {
        "id": "wIXjQh31TKkl"
      },
      "source": [
        "T= np.array([\n",
        "    [1,2,3],\n",
        "    [4,5,5],\n",
        "    [8,7,9]\n",
        "])\n",
        "E= np.array([\n",
        "    [8,9,7],\n",
        "    [6,5,4],\n",
        "    [1,2,3]\n",
        "])\n",
        "\n",
        "A = np.array([])\n",
        "\n",
        "S = np.eye(69)\n",
        "\n",
        "E = np.ones((6,9))\n",
        "\n",
        "R = np.zeros((3,3))"
      ],
      "execution_count": 328,
      "outputs": []
    },
    {
      "cell_type": "code",
      "metadata": {
        "id": "uwD8YeVbIfrh"
      },
      "source": [
        "## Test Areas"
      ],
      "execution_count": null,
      "outputs": []
    },
    {
      "cell_type": "code",
      "metadata": {
        "colab": {
          "base_uri": "https://localhost:8080/"
        },
        "id": "ouQy0sCQXHpp",
        "outputId": "a996853d-93f9-4901-b27a-349a7852daba"
      },
      "source": [
        "desc_mat(T)"
      ],
      "execution_count": 329,
      "outputs": [
        {
          "output_type": "stream",
          "name": "stdout",
          "text": [
            "Matrix:\n",
            "[[1 2 3]\n",
            " [4 5 5]\n",
            " [8 7 9]]\n",
            "\n",
            "Shape:\t(3, 3)\n",
            "Rank:\t2\n",
            "Is Square: True\n",
            "\n"
          ]
        }
      ]
    },
    {
      "cell_type": "code",
      "metadata": {
        "colab": {
          "base_uri": "https://localhost:8080/"
        },
        "id": "_vRSL18zpw91",
        "outputId": "87784cd3-7c63-4df4-80b1-85f9044896b8"
      },
      "source": [
        "desc_mat(E)"
      ],
      "execution_count": 330,
      "outputs": [
        {
          "output_type": "stream",
          "name": "stdout",
          "text": [
            "Matrix:\n",
            "[[1. 1. 1. 1. 1. 1. 1. 1. 1.]\n",
            " [1. 1. 1. 1. 1. 1. 1. 1. 1.]\n",
            " [1. 1. 1. 1. 1. 1. 1. 1. 1.]\n",
            " [1. 1. 1. 1. 1. 1. 1. 1. 1.]\n",
            " [1. 1. 1. 1. 1. 1. 1. 1. 1.]\n",
            " [1. 1. 1. 1. 1. 1. 1. 1. 1.]]\n",
            "\n",
            "Shape:\t(6, 9)\n",
            "Rank:\t2\n",
            "Is Square: False\n",
            "\n"
          ]
        }
      ]
    },
    {
      "cell_type": "code",
      "metadata": {
        "colab": {
          "base_uri": "https://localhost:8080/"
        },
        "id": "3rbWtLBUpypC",
        "outputId": "bf21e65d-07e7-4891-d7df-3085c08258dc"
      },
      "source": [
        "desc_mat(A)"
      ],
      "execution_count": 331,
      "outputs": [
        {
          "output_type": "stream",
          "name": "stdout",
          "text": [
            "Matrix is Null\n"
          ]
        }
      ]
    },
    {
      "cell_type": "code",
      "metadata": {
        "colab": {
          "base_uri": "https://localhost:8080/"
        },
        "id": "tI7wF_ERp2Dj",
        "outputId": "98b024c7-07fa-4ed7-9b81-31feb8b37131"
      },
      "source": [
        "desc_mat(S)"
      ],
      "execution_count": 332,
      "outputs": [
        {
          "output_type": "stream",
          "name": "stdout",
          "text": [
            "Matrix:\n",
            "[[1. 0. 0. ... 0. 0. 0.]\n",
            " [0. 1. 0. ... 0. 0. 0.]\n",
            " [0. 0. 1. ... 0. 0. 0.]\n",
            " ...\n",
            " [0. 0. 0. ... 1. 0. 0.]\n",
            " [0. 0. 0. ... 0. 1. 0.]\n",
            " [0. 0. 0. ... 0. 0. 1.]]\n",
            "\n",
            "Shape:\t(69, 69)\n",
            "Rank:\t2\n",
            "Is Square: True\n",
            "\n"
          ]
        }
      ]
    },
    {
      "cell_type": "code",
      "metadata": {
        "colab": {
          "base_uri": "https://localhost:8080/"
        },
        "id": "X_YKX2AppOEc",
        "outputId": "4db8ff42-69b2-45be-aa02-0a2e38c6f776"
      },
      "source": [
        "desc_mat(E)"
      ],
      "execution_count": 333,
      "outputs": [
        {
          "output_type": "stream",
          "name": "stdout",
          "text": [
            "Matrix:\n",
            "[[1. 1. 1. 1. 1. 1. 1. 1. 1.]\n",
            " [1. 1. 1. 1. 1. 1. 1. 1. 1.]\n",
            " [1. 1. 1. 1. 1. 1. 1. 1. 1.]\n",
            " [1. 1. 1. 1. 1. 1. 1. 1. 1.]\n",
            " [1. 1. 1. 1. 1. 1. 1. 1. 1.]\n",
            " [1. 1. 1. 1. 1. 1. 1. 1. 1.]]\n",
            "\n",
            "Shape:\t(6, 9)\n",
            "Rank:\t2\n",
            "Is Square: False\n",
            "\n"
          ]
        }
      ]
    },
    {
      "cell_type": "code",
      "metadata": {
        "colab": {
          "base_uri": "https://localhost:8080/"
        },
        "id": "cqkCnHbvp0Wk",
        "outputId": "df3f0472-b4bd-4451-9838-583035949a7c"
      },
      "source": [
        "desc_mat(R)"
      ],
      "execution_count": 334,
      "outputs": [
        {
          "output_type": "stream",
          "name": "stdout",
          "text": [
            "Matrix:\n",
            "[[0. 0. 0.]\n",
            " [0. 0. 0.]\n",
            " [0. 0. 0.]]\n",
            "\n",
            "Shape:\t(3, 3)\n",
            "Rank:\t2\n",
            "Is Square: True\n",
            "\n"
          ]
        }
      ]
    },
    {
      "cell_type": "markdown",
      "metadata": {
        "id": "e6ZGoLgLIfri"
      },
      "source": [
        "### Task 2"
      ]
    },
    {
      "cell_type": "markdown",
      "metadata": {
        "id": "Z6yZ3_7pIfri"
      },
      "source": [
        "Create a function named `mat_operations()` that takes in two matrices a input parameters it should:<br>\n",
        " 1. Determines if the matrices are viable for operation and returns your own error message if they are not viable.\n",
        " 2. Returns the sum of the matrices.\n",
        " 3. Returns the difference of the matrices.\n",
        " 4. Returns the element-wise multiplication of the matrices.\n",
        " 5. Returns the element-wise division of the matrices.\n",
        "\n",
        "Use at least sample matrices in which their shapes are not lower than $(3,3)$.\n",
        "In your methodology, create a flowchart discuss the functions and methods you have done. Present your results in the results section showing the description of each matrix you have declared."
      ]
    },
    {
      "cell_type": "code",
      "metadata": {
        "id": "XRtDBMVNIfri"
      },
      "source": [
        "## Function area"
      ],
      "execution_count": null,
      "outputs": []
    },
    {
      "cell_type": "code",
      "metadata": {
        "id": "ShOeTNKeGeJb"
      },
      "source": [
        "import numpy as np\n",
        "import matplotlib.pyplot as plt\n",
        "import scipy.linalg as la\n",
        "%matplotlib inline"
      ],
      "execution_count": 36,
      "outputs": []
    },
    {
      "cell_type": "code",
      "metadata": {
        "id": "WnpPcHWDZ7T2"
      },
      "source": [
        "def mat_operations(matrix):\n",
        "    if matrix.size > 0:\n",
        "        is_viable = True if matrix.shape [0] == matrix.shape[1] else False\n",
        "        print(f'Matrix\\n{matrix}\\nShape:\\t{matrix.shape}\\nRank:\\t{matrix.ndim}\\nIs Viable: {is_viable}')\n",
        "    else:\n",
        "        print('Use Element Wise Operation')"
      ],
      "execution_count": 339,
      "outputs": []
    },
    {
      "cell_type": "code",
      "metadata": {
        "id": "X5UT3MtGIfri"
      },
      "source": [
        "## Matrix declarations"
      ],
      "execution_count": 69,
      "outputs": []
    },
    {
      "cell_type": "code",
      "metadata": {
        "id": "g-C91tbQaBN0"
      },
      "source": [
        "T= np.array([\n",
        "    [1,2,3],\n",
        "    [4,5,5],\n",
        "    [8,7,9]\n",
        "])\n",
        "E= np.array([\n",
        "    [8,9,7],\n",
        "    [6,5,4],\n",
        "    [1,2,3]\n",
        "])"
      ],
      "execution_count": 340,
      "outputs": []
    },
    {
      "cell_type": "code",
      "metadata": {
        "id": "Sms7j22UIfri"
      },
      "source": [
        "## Test Areas"
      ],
      "execution_count": 306,
      "outputs": []
    },
    {
      "cell_type": "code",
      "metadata": {
        "colab": {
          "base_uri": "https://localhost:8080/"
        },
        "id": "5YQrkezObaQI",
        "outputId": "63055ee1-f266-4a7c-c36d-7bdbaf8fcd83"
      },
      "source": [
        "mat_operations(T+E)"
      ],
      "execution_count": 341,
      "outputs": [
        {
          "output_type": "stream",
          "name": "stdout",
          "text": [
            "Matrix\n",
            "[[ 9 11 10]\n",
            " [10 10  9]\n",
            " [ 9  9 12]]\n",
            "Shape:\t(3, 3)\n",
            "Rank:\t2\n",
            "Is Viable: True\n"
          ]
        }
      ]
    },
    {
      "cell_type": "code",
      "metadata": {
        "colab": {
          "base_uri": "https://localhost:8080/"
        },
        "id": "-213AmwkbcB-",
        "outputId": "58891553-726c-445c-df16-c64bc50fcc41"
      },
      "source": [
        "mat_operations(T-E)"
      ],
      "execution_count": 342,
      "outputs": [
        {
          "output_type": "stream",
          "name": "stdout",
          "text": [
            "Matrix\n",
            "[[-7 -7 -4]\n",
            " [-2  0  1]\n",
            " [ 7  5  6]]\n",
            "Shape:\t(3, 3)\n",
            "Rank:\t2\n",
            "Is Viable: True\n"
          ]
        }
      ]
    },
    {
      "cell_type": "code",
      "metadata": {
        "colab": {
          "base_uri": "https://localhost:8080/"
        },
        "id": "KvhSCFlkbdue",
        "outputId": "6abace2d-2ebf-4531-add5-1b28bc468286"
      },
      "source": [
        "mat_operations(T*E)"
      ],
      "execution_count": 343,
      "outputs": [
        {
          "output_type": "stream",
          "name": "stdout",
          "text": [
            "Matrix\n",
            "[[ 8 18 21]\n",
            " [24 25 20]\n",
            " [ 8 14 27]]\n",
            "Shape:\t(3, 3)\n",
            "Rank:\t2\n",
            "Is Viable: True\n"
          ]
        }
      ]
    },
    {
      "cell_type": "code",
      "metadata": {
        "colab": {
          "base_uri": "https://localhost:8080/"
        },
        "id": "stxyeuL3beps",
        "outputId": "810691c3-3926-4e76-a662-cd37e1fa3a99"
      },
      "source": [
        "mat_operations(T/E)"
      ],
      "execution_count": 344,
      "outputs": [
        {
          "output_type": "stream",
          "name": "stdout",
          "text": [
            "Matrix\n",
            "[[0.125      0.22222222 0.42857143]\n",
            " [0.66666667 1.         1.25      ]\n",
            " [8.         3.5        3.        ]]\n",
            "Shape:\t(3, 3)\n",
            "Rank:\t2\n",
            "Is Viable: True\n"
          ]
        }
      ]
    },
    {
      "cell_type": "code",
      "metadata": {
        "colab": {
          "base_uri": "https://localhost:8080/"
        },
        "id": "8U_b4_q8blDc",
        "outputId": "def69c95-a3e9-47b3-d340-cb1bf28d6332"
      },
      "source": [
        "alpha=10**-10\n",
        "mat_operations(T/(alpha+E))"
      ],
      "execution_count": 345,
      "outputs": [
        {
          "output_type": "stream",
          "name": "stdout",
          "text": [
            "Matrix\n",
            "[[0.125      0.22222222 0.42857143]\n",
            " [0.66666667 1.         1.25      ]\n",
            " [8.         3.5        3.        ]]\n",
            "Shape:\t(3, 3)\n",
            "Rank:\t2\n",
            "Is Viable: True\n"
          ]
        }
      ]
    },
    {
      "cell_type": "markdown",
      "metadata": {
        "id": "V4LRAK6vIfri"
      },
      "source": [
        "## Conclusion"
      ]
    },
    {
      "cell_type": "markdown",
      "metadata": {
        "id": "qI0-MOPMIfrj"
      },
      "source": [
        "> When high-speed computers with hierarchical memory (based on multiple levels \n",
        "of caches) are utilized to tackle huge computational workloads, efficient matrix computation organization becomes increasingly crucial. Matrix computations are used in the treatment of nearly all large-scale models [4].These jumble of numbers in the matrix format stems from systems of equations. Matrices are commonly seen in mathematics, but we've never actually seen how it is applied. Since matrices are a type of matrix that can be used to organize, store, and manipulate mathematical data. Hence, we can utilize this depending on its real world applications. Real world applications of matrices include encryption, games, economics and business, Physics, and Geology. In encryption, Matrices are used  to scramble data for security reasons. They are used to encode and decode data. There is a key that aids in the encoding and decoding of data generated by matrices. Furthermore, games utilize matrices to modify the thing in three-dimensional space. They convert it from a three-dimensional matrix to a two-dimensional matrix as needed. In economics and business, it is used to research a company's trends, shares, and other factors. To develop business models, for example. In Physics there are different applications for Matrices. Electrical circuits, Quantum physics, and Optics are all studied using matrices. It aids in the estimation of battery power outputs and the conversion of electrical energy into another useable form through resistors. As a result, matrices play a significant part in calculations. Especially when applying Kirchoff's voltage and current rules to solve difficulties. It aids in the study and application of quantum physics. Lastly, in Geology it is generally used for seismic surveys [5]. These are few of the applications of Matrices, and it can solve various problems on different fields. Matrices solve problems in technology through it's first application which is encryption. In which it is used to scramble data for security purposes. It is also a way of providing quick approximations of more complicated calculations."
      ]
    },
    {
      "cell_type": "markdown",
      "metadata": {
        "id": "SLhsLo4030BY"
      },
      "source": [
        "## References\n",
        "[1]Rupinder Sekhon and Roberta Bloom(Sep 5, 2021)\"Math LibreTexts\", Introduction to Matrices. Available: https://math.libretexts.org/Bookshelves/Applied_Mathematics/Applied_Finite_Mathematics_(Sekhon_and_Bloom)/02%3A_Matrices/2.01%3A_Introduction_to_Matrices. [Accessed: Sept. 22, 2021].\n",
        "\n",
        "[2]\"Khan Academy\",Intro to matrices(n.d). Avaiable: https://www.khanacademy.org/math/precalculus/x9e81a4f98389efdf:matrices/x9e81a4f98389efdf:mat-intro/a/intro-to-matrices. [Accessed: Sept. 22, 2021].\n",
        "\n",
        "[3]“Representing linear systems with matrices,”(n.d). Available: https://www.khanacademy.org/math/algebra-home/alg-matrices/alg-representing-systems-with-matrices/a/representing-systems-with-matrices. Available: http://www.vmsk.org/Layman.pdf. [Accessed: Sept. 22, 2021].\n",
        "\n",
        "[4]Giorgio Semenza(2006)\"Studies in Computational Mathematics\",Applicability to other models. Avilable: https://www.sciencedirect.com/bookseries/studies-in-computational-mathematics. [Accessed: Sept. 23, 2021].\n",
        "\n",
        "[5]Livia Ferrao(May 20, 2021)\"Embibe\", Where Are Matrices Used In Daily Life? Read Here To Know. Available: https://www.embibe.com/exams/where-are-matrices-used-in-daily-life/. [Accessed: Sept. 23,2021]."
      ]
    }
  ]
}